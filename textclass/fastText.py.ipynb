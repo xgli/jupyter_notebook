{
 "cells": [
  {
   "cell_type": "code",
   "execution_count": 6,
   "metadata": {
    "collapsed": true
   },
   "outputs": [],
   "source": [
    "# _*_coding:utf-8 _*_\n",
    "import logging\n",
    "logging.basicConfig(format='%(asctime)s : %(levelname)s : %(message)s', level=logging.INFO)"
   ]
  },
  {
   "cell_type": "code",
   "execution_count": 7,
   "metadata": {
    "collapsed": false
   },
   "outputs": [],
   "source": [
    "import fasttext\n",
    "\n",
    "classifier = fasttext.supervised(\"news_fasttext_train.txt\",\"news_fasttext.model\",label_prefix=\"__label__\")\n",
    "\n",
    "    "
   ]
  },
  {
   "cell_type": "code",
   "execution_count": 8,
   "metadata": {
    "collapsed": false
   },
   "outputs": [
    {
     "name": "stdout",
     "output_type": "stream",
     "text": [
      "0.92240420242\n",
      "0.92240420242\n",
      "<fasttext.model.ClassifierTestResult object at 0x7fdd38fa9f90>\n"
     ]
    }
   ],
   "source": [
    "result = classifier.test(\"news_fasttext_test.txt\")\n",
    "print result.precision\n",
    "print result.recall\n",
    "print result"
   ]
  },
  {
   "cell_type": "code",
   "execution_count": 30,
   "metadata": {
    "collapsed": false
   },
   "outputs": [
    {
     "name": "stdout",
     "output_type": "stream",
     "text": [
      "[u'affairs', u'fashion', u'lottery', u'house', u'science', u'sports', u'game', u'economic', u'ent', u'edu', u'home', u'constellation', u'stock']\n",
      "['affairs', 'fashion', 'house', 'sports', 'game', 'economic', 'ent', 'edu', 'home', 'stock', 'science']\n",
      "{'science': 8415, 'affairs': 8257, 'fashion': 3173, 'house': 9491, 'sports': 9739, 'game': 9506, 'economic': 9235, 'ent': 9665, 'edu': 9491, 'home': 9315, 'stock': 9015}\n",
      "{'science': 10000, 'affairs': 10000, 'fashion': 3369, 'house': 10000, 'sports': 10000, 'game': 10000, 'economic': 10000, 'ent': 10000, 'edu': 10000, 'home': 10000, 'stock': 10000}\n",
      "{u'affairs': 8562, u'fashion': 3585, u'lottery': 96, u'science': 9088, u'edu': 10068, u'sports': 10099, u'game': 10151, u'economic': 10131, u'ent': 10798, u'house': 10000, u'home': 10103, u'constellation': 432, u'stock': 10256}\n",
      "science:\tp:0.841500\tr:0.925946r:\tf:0.881706\n",
      "affairs:\tp:0.825700\tr:0.964377r:\tf:0.889667\n",
      "fashion:\tp:0.941822\tr:0.885077r:\tf:0.912568\n",
      "house:\tp:0.949100\tr:0.949100r:\tf:0.949100\n",
      "sports:\tp:0.973900\tr:0.964353r:\tf:0.969103\n",
      "game:\tp:0.950600\tr:0.936459r:\tf:0.943477\n",
      "economic:\tp:0.923500\tr:0.911559r:\tf:0.917490\n",
      "ent:\tp:0.966500\tr:0.895073r:\tf:0.929416\n",
      "edu:\tp:0.949100\tr:0.942690r:\tf:0.945884\n",
      "home:\tp:0.931500\tr:0.922003r:\tf:0.926727\n",
      "stock:\tp:0.901500\tr:0.878998r:\tf:0.890107\n"
     ]
    }
   ],
   "source": [
    "labels_right = []\n",
    "texts = []\n",
    "with open(\"news_fasttext_test.txt\") as fr:\n",
    "    lines = fr.readlines()\n",
    "for line in lines:\n",
    "    labels_right.append(line.split(\"\\t\")[1].rstrip().replace(\"__label__\",\"\"))\n",
    "    texts.append(line.split(\"\\t\")[0].decode(\"utf-8\"))\n",
    "#     print labels\n",
    "#     print texts\n",
    "#     break\n",
    "labels_predict = [e[0] for e in classifier.predict(texts)] #预测输出结果为二维形式\n",
    "# print labels_predict\n",
    "\n",
    "text_labels = list(set(labels_right))\n",
    "text_predict_labels = list(set(labels_predict))\n",
    "print text_predict_labels\n",
    "print text_labels\n",
    "\n",
    "A = dict.fromkeys(text_labels,0)  #预测正确的\n",
    "B = dict.fromkeys(text_labels,0)   #正确相应标签的个数\n",
    "C = dict.fromkeys(text_predict_labels,0) #预测相应标签的个数\n",
    "for i in range(0,len(labels_right)):\n",
    "    B[labels_right[i]] += 1\n",
    "    C[labels_predict[i]] += 1\n",
    "    if labels_right[i] == labels_predict[i]:\n",
    "        A[labels_right[i]] += 1\n",
    "        \n",
    "print A\n",
    "print B\n",
    "print C\n",
    "for key in B:\n",
    "    p = float(A[key]) / float(B[key])\n",
    "    r = float(A[key]) / float(C[key])\n",
    "    f = p * r * 2 / (p + r)\n",
    "    print \"%s:\\tp:%f\\tr:%fr:\\tf:%f\" % (key,p,r,f)\n",
    "        \n"
   ]
  }
 ],
 "metadata": {
  "kernelspec": {
   "display_name": "Python 2",
   "language": "python",
   "name": "python2"
  },
  "language_info": {
   "codemirror_mode": {
    "name": "ipython",
    "version": 2
   },
   "file_extension": ".py",
   "mimetype": "text/x-python",
   "name": "python",
   "nbconvert_exporter": "python",
   "pygments_lexer": "ipython2",
   "version": "2.7.12"
  }
 },
 "nbformat": 4,
 "nbformat_minor": 1
}
