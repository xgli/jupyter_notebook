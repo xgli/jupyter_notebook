{
 "cells": [
  {
   "cell_type": "code",
   "execution_count": 1,
   "metadata": {
    "collapsed": true
   },
   "outputs": [],
   "source": [
    "# _*_coding:utf-8 _*_\n",
    "import logging\n",
    "logging.basicConfig(format='%(asctime)s : %(levelname)s : %(message)s', level=logging.INFO)"
   ]
  },
  {
   "cell_type": "code",
   "execution_count": 2,
   "metadata": {
    "collapsed": true
   },
   "outputs": [],
   "source": [
    "basedir = \"/home/li/corpus/news/\"\n",
    "dir_list = ['affairs','constellation','economic','edu','ent','fashion','game','home','house','lottery','science','sports','stock']"
   ]
  },
  {
   "cell_type": "code",
   "execution_count": null,
   "metadata": {
    "collapsed": true
   },
   "outputs": [],
   "source": [
    "# ##生成fastext的训练和测试数据集\n",
    "\n",
    "# ftrain = open(\"news_fasttext_train.txt\",\"w\")\n",
    "# ftest = open(\"news_fasttext_test.txt\",\"w\")\n",
    "\n",
    "# num = -1\n",
    "# for e in dir_list:\n",
    "#     num += 1\n",
    "#     indir = basedir + e + '/'\n",
    "#     files = os.listdir(indir)\n",
    "#     count = 0\n",
    "#     for file in files:\n",
    "#         count += 1            \n",
    "#         filepath = indir + file\n",
    "#         with open(filepath,'r') as fr:\n",
    "#             text = fr.read()\n",
    "#         text = text.decode(\"utf-8\").encode(\"utf-8\")\n",
    "#         seg_text = jieba.cut(text.replace(\"\\t\",\" \").replace(\"\\n\",\" \"))\n",
    "#         outline = \" \".join(seg_text)\n",
    "#         outline = outline.encode(\"utf-8\") + \"\\t__label__\" + e + \"\\n\"\n",
    "# #         print outline\n",
    "# #         break\n",
    "\n",
    "#         if count < 10000:\n",
    "#             ftrain.write(outline)\n",
    "#             ftrain.flush()\n",
    "#             continue\n",
    "#         elif count  < 20000:\n",
    "#             ftest.write(outline)\n",
    "#             ftest.flush()\n",
    "#             continue\n",
    "#         else:\n",
    "#             break\n",
    "\n",
    "# ftrain.close()\n",
    "# ftest.close()\n"
   ]
  },
  {
   "cell_type": "code",
   "execution_count": 4,
   "metadata": {
    "collapsed": false
   },
   "outputs": [
    {
     "name": "stdout",
     "output_type": "stream",
     "text": [
      "训练fasttext分类模型\n",
      "训练fasttext分类模型，用时74.770秒\n"
     ]
    }
   ],
   "source": [
    "import fasttext\n",
    "import time\n",
    "\n",
    "print \"训练fasttext分类模型\"\n",
    "t_start = time.time()\n",
    "classifier = fasttext.supervised(\"news_fasttext_train.txt\",\"news_fasttext.model\",label_prefix=\"__label__\")\n",
    "\n",
    "print \"训练fasttext分类模型完成，用时%.3f秒\" % (time.time() - t_start)\n",
    "    "
   ]
  },
  {
   "cell_type": "code",
   "execution_count": 5,
   "metadata": {
    "collapsed": false
   },
   "outputs": [
    {
     "name": "stdout",
     "output_type": "stream",
     "text": [
      "测试fasttext分类模型\n",
      "测试fasttext分类模型完成，用时13.919秒\n",
      "result:0.924533\n",
      "recall:0.924533\n"
     ]
    }
   ],
   "source": [
    "print \"测试fasttext分类模型\"\n",
    "t_start = time.time()\n",
    "result = classifier.test(\"news_fasttext_test.txt\")\n",
    "print \"测试fasttext分类模型完成，用时%.3f秒\" % (time.time() - t_start)\n",
    "\n",
    "print \"result:%f\" % result.precision\n",
    "print \"recall:%f\" % result.recall\n",
    "#print result"
   ]
  },
  {
   "cell_type": "code",
   "execution_count": 3,
   "metadata": {
    "collapsed": true
   },
   "outputs": [],
   "source": [
    "#load model\n",
    "import fasttext\n",
    "\n",
    "classifier = fasttext.load_model(\"news_fasttext.model.bin\",label_prefix=\"__label__\")\n"
   ]
  },
  {
   "cell_type": "code",
   "execution_count": 6,
   "metadata": {
    "collapsed": false
   },
   "outputs": [
    {
     "name": "stdout",
     "output_type": "stream",
     "text": [
      "science:8180\n",
      "affairs:9283\n",
      "fashion:3222\n",
      "house:9340\n",
      "sports:9792\n",
      "game:9387\n",
      "economic:9463\n",
      "ent:9552\n",
      "edu:9529\n",
      "home:9270\n",
      "stock:8442\n",
      "science:10000\n",
      "affairs:10000\n",
      "fashion:3369\n",
      "house:10000\n",
      "sports:10000\n",
      "game:10000\n",
      "economic:10000\n",
      "ent:10000\n",
      "edu:10000\n",
      "home:10000\n",
      "stock:10000\n",
      "science:8700\n",
      "affairs:10238\n",
      "fashion:3873\n",
      "lottery:47\n",
      "house:9720\n",
      "sports:10159\n",
      "game:9909\n",
      "economic:10901\n",
      "ent:10341\n",
      "edu:10031\n",
      "home:10027\n",
      "constellation:366\n",
      "stock:9057\n",
      "{'affairs': {'affairs': 10238, 'fashion': 3873, u'lottery': 47, 'house': 9720, 'sports': 10159, 'game': 9909, 'economic': 10901, 'ent': 10341, 'edu': 10031, 'home': 10027, 'stock': 9057, u'constellation': 366, 'science': 8700}, 'fashion': {'affairs': 10238, 'fashion': 3873, u'lottery': 47, 'house': 9720, 'sports': 10159, 'game': 9909, 'economic': 10901, 'ent': 10341, 'edu': 10031, 'home': 10027, 'stock': 9057, u'constellation': 366, 'science': 8700}, u'lottery': {'affairs': 10238, 'fashion': 3873, u'lottery': 47, 'house': 9720, 'sports': 10159, 'game': 9909, 'economic': 10901, 'ent': 10341, 'edu': 10031, 'home': 10027, 'stock': 9057, u'constellation': 366, 'science': 8700}, 'house': {'affairs': 10238, 'fashion': 3873, u'lottery': 47, 'house': 9720, 'sports': 10159, 'game': 9909, 'economic': 10901, 'ent': 10341, 'edu': 10031, 'home': 10027, 'stock': 9057, u'constellation': 366, 'science': 8700}, 'sports': {'affairs': 10238, 'fashion': 3873, u'lottery': 47, 'house': 9720, 'sports': 10159, 'game': 9909, 'economic': 10901, 'ent': 10341, 'edu': 10031, 'home': 10027, 'stock': 9057, u'constellation': 366, 'science': 8700}, 'game': {'affairs': 10238, 'fashion': 3873, u'lottery': 47, 'house': 9720, 'sports': 10159, 'game': 9909, 'economic': 10901, 'ent': 10341, 'edu': 10031, 'home': 10027, 'stock': 9057, u'constellation': 366, 'science': 8700}, 'economic': {'affairs': 10238, 'fashion': 3873, u'lottery': 47, 'house': 9720, 'sports': 10159, 'game': 9909, 'economic': 10901, 'ent': 10341, 'edu': 10031, 'home': 10027, 'stock': 9057, u'constellation': 366, 'science': 8700}, 'ent': {'affairs': 10238, 'fashion': 3873, u'lottery': 47, 'house': 9720, 'sports': 10159, 'game': 9909, 'economic': 10901, 'ent': 10341, 'edu': 10031, 'home': 10027, 'stock': 9057, u'constellation': 366, 'science': 8700}, 'edu': {'affairs': 10238, 'fashion': 3873, u'lottery': 47, 'house': 9720, 'sports': 10159, 'game': 9909, 'economic': 10901, 'ent': 10341, 'edu': 10031, 'home': 10027, 'stock': 9057, u'constellation': 366, 'science': 8700}, 'home': {'affairs': 10238, 'fashion': 3873, u'lottery': 47, 'house': 9720, 'sports': 10159, 'game': 9909, 'economic': 10901, 'ent': 10341, 'edu': 10031, 'home': 10027, 'stock': 9057, u'constellation': 366, 'science': 8700}, 'stock': {'affairs': 10238, 'fashion': 3873, u'lottery': 47, 'house': 9720, 'sports': 10159, 'game': 9909, 'economic': 10901, 'ent': 10341, 'edu': 10031, 'home': 10027, 'stock': 9057, u'constellation': 366, 'science': 8700}, u'constellation': {'affairs': 10238, 'fashion': 3873, u'lottery': 47, 'house': 9720, 'sports': 10159, 'game': 9909, 'economic': 10901, 'ent': 10341, 'edu': 10031, 'home': 10027, 'stock': 9057, u'constellation': 366, 'science': 8700}, 'science': {'affairs': 10238, 'fashion': 3873, u'lottery': 47, 'house': 9720, 'sports': 10159, 'game': 9909, 'economic': 10901, 'ent': 10341, 'edu': 10031, 'home': 10027, 'stock': 9057, u'constellation': 366, 'science': 8700}}\n",
      "science:\tp:0.940230\tr:0.818000r:\tf:0.874866\n",
      "affairs:\tp:0.906720\tr:0.928300r:\tf:0.917383\n",
      "fashion:\tp:0.831913\tr:0.956367r:\tf:0.889809\n",
      "house:\tp:0.960905\tr:0.934000r:\tf:0.947262\n",
      "sports:\tp:0.963874\tr:0.979200r:\tf:0.971477\n",
      "game:\tp:0.947321\tr:0.938700r:\tf:0.942991\n",
      "economic:\tp:0.868085\tr:0.946300r:\tf:0.905507\n",
      "ent:\tp:0.923702\tr:0.955200r:\tf:0.939187\n",
      "edu:\tp:0.949955\tr:0.952900r:\tf:0.951425\n",
      "home:\tp:0.924504\tr:0.927000r:\tf:0.925750\n",
      "stock:\tp:0.932097\tr:0.844200r:\tf:0.885974\n"
     ]
    }
   ],
   "source": [
    "def print_dict(a):\n",
    "    for key in a:\n",
    "        print key + \":\" + str(a[key])\n",
    "    \n",
    "\n",
    "\n",
    "labels_right = []\n",
    "texts = []\n",
    "with open(\"news_fasttext_test.txt\") as fr:\n",
    "    lines = fr.readlines()\n",
    "for line in lines:\n",
    "    labels_right.append(line.split(\"\\t\")[1].rstrip().replace(\"__label__\",\"\"))\n",
    "    texts.append(line.split(\"\\t\")[0].decode(\"utf-8\"))\n",
    "#     print labels\n",
    "#     print texts\n",
    "#     break\n",
    "labels_predict = [e[0] for e in classifier.predict(texts)] #预测输出结果为二维形式\n",
    "# print labels_predict\n",
    "\n",
    "text_labels = list(set(labels_right))\n",
    "text_predict_labels = list(set(labels_predict))\n",
    "# print text_predict_labels\n",
    "# print text_labels\n",
    "\n",
    "#构建混淆矩阵\n",
    "union_labels = set(text_labels) | set(text_predict_labels #为了保证标签的正确性\n",
    "\n",
    "confusion_matrix = dict.fromkeys(union_labels, dict.fromkeys(union_labels,0))\n",
    "\n",
    "\n",
    "\n",
    "A = dict.fromkeys(text_labels,0)  #预测正确的\n",
    "B = dict.fromkeys(text_labels,0)   #正确相应标签的个数\n",
    "C = dict.fromkeys(text_predict_labels,0) #预测相应标签的个数\n",
    "\n",
    "\n",
    "for i in range(0,len(labels_right)):\n",
    "    confusion_matrix[labels_right[i]][labels_predict[i]] += 1   \n",
    "    \n",
    "    B[labels_right[i]] += 1\n",
    "    C[labels_predict[i]] += 1\n",
    "    if labels_right[i] == labels_predict[i]:\n",
    "        A[labels_right[i]] += 1\n",
    "        \n",
    "# print_dict(A)\n",
    "# print_dict(B)\n",
    "# print_dict(C)\n",
    "\n",
    "print confusion_matrix\n",
    "\n",
    "for key in B:\n",
    "    r = float(A[key]) / float(B[key])\n",
    "    p = float(A[key]) / float(C[key])\n",
    "    f = p * r * 2 / (p + r)\n",
    "    print \"%s:\\tp:%f\\tr:%fr:\\tf:%f\" % (key,p,r,f)\n",
    "        \n"
   ]
  },
  {
   "cell_type": "code",
   "execution_count": 7,
   "metadata": {
    "collapsed": false
   },
   "outputs": [
    {
     "name": "stdout",
     "output_type": "stream",
     "text": [
      "{'affairs': {'affairs': 10238, 'fashion': 3873, u'lottery': 47, 'house': 9720, 'sports': 10159, 'game': 9909, 'economic': 10901, 'ent': 10341, 'edu': 10031, 'home': 10027, 'stock': 9057, u'constellation': 366, 'science': 8700}, 'fashion': {'affairs': 10238, 'fashion': 3873, u'lottery': 47, 'house': 9720, 'sports': 10159, 'game': 9909, 'economic': 10901, 'ent': 10341, 'edu': 10031, 'home': 10027, 'stock': 9057, u'constellation': 366, 'science': 8700}, u'lottery': {'affairs': 10238, 'fashion': 3873, u'lottery': 47, 'house': 9720, 'sports': 10159, 'game': 9909, 'economic': 10901, 'ent': 10341, 'edu': 10031, 'home': 10027, 'stock': 9057, u'constellation': 366, 'science': 8700}, 'house': {'affairs': 10238, 'fashion': 3873, u'lottery': 47, 'house': 9720, 'sports': 10159, 'game': 9909, 'economic': 10901, 'ent': 10341, 'edu': 10031, 'home': 10027, 'stock': 9057, u'constellation': 366, 'science': 8700}, 'sports': {'affairs': 10238, 'fashion': 3873, u'lottery': 47, 'house': 9720, 'sports': 10159, 'game': 9909, 'economic': 10901, 'ent': 10341, 'edu': 10031, 'home': 10027, 'stock': 9057, u'constellation': 366, 'science': 8700}, 'game': {'affairs': 10238, 'fashion': 3873, u'lottery': 47, 'house': 9720, 'sports': 10159, 'game': 9909, 'economic': 10901, 'ent': 10341, 'edu': 10031, 'home': 10027, 'stock': 9057, u'constellation': 366, 'science': 8700}, 'economic': {'affairs': 10238, 'fashion': 3873, u'lottery': 47, 'house': 9720, 'sports': 10159, 'game': 9909, 'economic': 10901, 'ent': 10341, 'edu': 10031, 'home': 10027, 'stock': 9057, u'constellation': 366, 'science': 8700}, 'ent': {'affairs': 10238, 'fashion': 3873, u'lottery': 47, 'house': 9720, 'sports': 10159, 'game': 9909, 'economic': 10901, 'ent': 10341, 'edu': 10031, 'home': 10027, 'stock': 9057, u'constellation': 366, 'science': 8700}, 'edu': {'affairs': 10238, 'fashion': 3873, u'lottery': 47, 'house': 9720, 'sports': 10159, 'game': 9909, 'economic': 10901, 'ent': 10341, 'edu': 10031, 'home': 10027, 'stock': 9057, u'constellation': 366, 'science': 8700}, 'home': {'affairs': 10238, 'fashion': 3873, u'lottery': 47, 'house': 9720, 'sports': 10159, 'game': 9909, 'economic': 10901, 'ent': 10341, 'edu': 10031, 'home': 10027, 'stock': 9057, u'constellation': 366, 'science': 8700}, 'stock': {'affairs': 10238, 'fashion': 3873, u'lottery': 47, 'house': 9720, 'sports': 10159, 'game': 9909, 'economic': 10901, 'ent': 10341, 'edu': 10031, 'home': 10027, 'stock': 9057, u'constellation': 366, 'science': 8700}, u'constellation': {'affairs': 10238, 'fashion': 3873, u'lottery': 47, 'house': 9720, 'sports': 10159, 'game': 9909, 'economic': 10901, 'ent': 10341, 'edu': 10031, 'home': 10027, 'stock': 9057, u'constellation': 366, 'science': 8700}, 'science': {'affairs': 10238, 'fashion': 3873, u'lottery': 47, 'house': 9720, 'sports': 10159, 'game': 9909, 'economic': 10901, 'ent': 10341, 'edu': 10031, 'home': 10027, 'stock': 9057, u'constellation': 366, 'science': 8700}}\n"
     ]
    }
   ],
   "source": [
    "print confusion_matrix\n",
    "\n",
    "f\n"
   ]
  }
 ],
 "metadata": {
  "kernelspec": {
   "display_name": "Python 2",
   "language": "python",
   "name": "python2"
  },
  "language_info": {
   "codemirror_mode": {
    "name": "ipython",
    "version": 2
   },
   "file_extension": ".py",
   "mimetype": "text/x-python",
   "name": "python",
   "nbconvert_exporter": "python",
   "pygments_lexer": "ipython2",
   "version": "2.7.12"
  }
 },
 "nbformat": 4,
 "nbformat_minor": 1
}
