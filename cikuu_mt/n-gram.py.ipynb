{
 "cells": [
  {
   "cell_type": "code",
   "execution_count": 25,
   "metadata": {
    "collapsed": true
   },
   "outputs": [],
   "source": [
    "import string\n",
    "import re\n",
    "import urllib2\n",
    "import operator\n",
    "import cPickle as pickle"
   ]
  },
  {
   "cell_type": "code",
   "execution_count": 23,
   "metadata": {
    "collapsed": false
   },
   "outputs": [],
   "source": [
    "def cleanInput(input):\n",
    "    input = cleanText(input)\n",
    "    cleanInput = []\n",
    "    input = input.split(' ') #以空格为分隔符，返回列表\n",
    "\n",
    "\n",
    "    for item in input:\n",
    "        item = item.strip(string.punctuation) # string.punctuation获取所有标点符号\n",
    "\n",
    "        if len(item) > 1 or (item.lower() == 'a' or item.lower() == 'i'): #找出单词，包括i,a等单个单词\n",
    "            cleanInput.append(item)\n",
    "    return cleanInput\n",
    "\n",
    "    "
   ]
  },
  {
   "cell_type": "code",
   "execution_count": 38,
   "metadata": {
    "collapsed": false
   },
   "outputs": [
    {
     "name": "stdout",
     "output_type": "stream",
     "text": [
      "1244014\n",
      "1541261\n"
     ]
    }
   ],
   "source": [
    "\n",
    "\n",
    "with open(\"../data/train.txt\") as fr:\n",
    "    texts = fr.readlines()\n",
    "\n",
    "normal = {}\n",
    "machine = {}\n",
    "n = 3\n",
    "\n",
    "for text in texts:\n",
    "    t_type =text.split(\"\\t\")[1].replace(\"__label__\",\"\").lstrip().rstrip()\n",
    "#     print t_type\n",
    "    words = cleanInput(text.split(\"\\t\")[0])\n",
    "#     print len(words)\n",
    "    for i in range(len(words)-n + 1):\n",
    "#         print i\n",
    "        ngramTemp = \" \".join(words[i:i+n])\n",
    "        if t_type == \"normal\":\n",
    "            if ngramTemp not in normal:\n",
    "                normal[ngramTemp] = 0\n",
    "            normal[ngramTemp] += 1\n",
    "        elif t_type == u\"machine\":\n",
    "            if ngramTemp not in machine:\n",
    "                machine[ngramTemp] = 0\n",
    "            machine[ngramTemp] += 1\n",
    "#     break\n",
    "#     print normal\n",
    "#     print machine\n",
    "print len(normal)\n",
    "print len(machine)\n",
    "pickle.dump(normal,open(\"normal.pk\",\"w\"))\n",
    "pickle.dump(machine,open(\"machine.pk\",\"w\"))\n",
    "\n",
    "\n",
    "        \n",
    "    \n"
   ]
  },
  {
   "cell_type": "code",
   "execution_count": 39,
   "metadata": {
    "collapsed": false
   },
   "outputs": [
    {
     "name": "stdout",
     "output_type": "stream",
     "text": [
      "1244014\n",
      "1541261\n",
      "1414954\n",
      "126307\n",
      "1117707\n"
     ]
    }
   ],
   "source": [
    "normal = pickle.load(open(\"normal.pk\",\"r\"))\n",
    "machine = pickle.load(open(\"machine.pk\",\"r\"))\n",
    "print len(normal)\n",
    "print len(machine)\n",
    "\n",
    "normal_set = set(normal.keys())\n",
    "machine_set = set(machine.keys())\n",
    "\n",
    "\n",
    "normal_and_machine_set = normal_set & machine_set #normal和machine共有的\n",
    "normal_not_in_machine_set = normal_set - machine_set # normal中特有的\n",
    "machine_not_in_normal_set = machine_set - normal_set #machinde中特有的\n",
    "\n",
    "\n",
    "print len(machine_not_in_normal_set)\n",
    "print len(normal_and_machine_set)\n",
    "print len(normal_not_in_machine_set)\n",
    "\n"
   ]
  }
 ],
 "metadata": {
  "kernelspec": {
   "display_name": "Python 2",
   "language": "python",
   "name": "python2"
  },
  "language_info": {
   "codemirror_mode": {
    "name": "ipython",
    "version": 2
   },
   "file_extension": ".py",
   "mimetype": "text/x-python",
   "name": "python",
   "nbconvert_exporter": "python",
   "pygments_lexer": "ipython2",
   "version": "2.7.12"
  }
 },
 "nbformat": 4,
 "nbformat_minor": 1
}
